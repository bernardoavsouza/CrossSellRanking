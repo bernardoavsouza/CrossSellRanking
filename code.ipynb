{
 "cells": [
  {
   "cell_type": "markdown",
   "id": "6eb4ee76",
   "metadata": {
    "heading_collapsed": true
   },
   "source": [
    "# 0. IMPORTS"
   ]
  },
  {
   "cell_type": "code",
   "execution_count": 146,
   "id": "53152221",
   "metadata": {
    "ExecuteTime": {
     "end_time": "2023-07-01T02:32:13.977464Z",
     "start_time": "2023-07-01T02:32:13.929095Z"
    },
    "hidden": true
   },
   "outputs": [],
   "source": [
    "import numpy as np\n",
    "import pandas as pd\n",
    "import matplotlib.pyplot as plt\n",
    "import seaborn as sns\n",
    "import scikitplot as skplt\n",
    "\n",
    "from sklearn.model_selection import train_test_split\n",
    "from sklearn.preprocessing import LabelEncoder\n",
    "from sklearn.neighbors import KNeighborsClassifier as KNN\n",
    "\n",
    "import warnings\n",
    "from kaggle.api.kaggle_api_extended import KaggleApi\n",
    "from IPython.display import display, HTML\n",
    "from os import remove"
   ]
  },
  {
   "cell_type": "markdown",
   "id": "e5b02cb9",
   "metadata": {
    "hidden": true
   },
   "source": [
    "## 0.1. Helper Funcions"
   ]
  },
  {
   "cell_type": "code",
   "execution_count": 159,
   "id": "d43f25a2",
   "metadata": {
    "ExecuteTime": {
     "end_time": "2023-07-01T02:39:17.054053Z",
     "start_time": "2023-07-01T02:39:17.046043Z"
    },
    "hidden": true
   },
   "outputs": [],
   "source": [
    "def precision_top_k(df, k):\n",
    "    return df['Response'].head(k).sum()/k\n",
    "\n",
    "\n",
    "\n",
    "def average_precision_at_k(df, k):\n",
    "    def calc():\n",
    "        for i in range(1, k + 1):\n",
    "            yield precision_top_k(df, i)\n",
    "            \n",
    "    return np.mean(list(calc()))\n",
    "\n",
    "\n",
    "\n",
    "def ml_result(val, k, model_name, prediction):\n",
    "    df = val.copy()\n",
    "    df['PropensityScore'] = prediction[:, 1]\n",
    "    df = df.sort_values(by = \"PropensityScore\", ascending = False)\n",
    "\n",
    "    p_at_k = precision_top_k(df, k)\n",
    "    ap_at_k = average_precision_at_k(df, k)\n",
    "\n",
    "    return pd.DataFrame([[model_name, p_at_k, ap_at_k]], columns = ['Model', \"Precision@{}\".format(k), \"AP@{}\".format(k)], index = [0])"
   ]
  },
  {
   "cell_type": "markdown",
   "id": "c4db9b93",
   "metadata": {
    "heading_collapsed": true,
    "hidden": true
   },
   "source": [
    "## 0.2. Basic Settings"
   ]
  },
  {
   "cell_type": "code",
   "execution_count": 2,
   "id": "76b0456a",
   "metadata": {
    "ExecuteTime": {
     "end_time": "2023-07-01T00:32:27.682962Z",
     "start_time": "2023-07-01T00:32:27.670991Z"
    },
    "hidden": true
   },
   "outputs": [
    {
     "data": {
      "text/html": [
       "<style>.container { width:100% !important; }</style>"
      ],
      "text/plain": [
       "<IPython.core.display.HTML object>"
      ]
     },
     "metadata": {},
     "output_type": "display_data"
    }
   ],
   "source": [
    "warnings.filterwarnings('ignore')\n",
    "\n",
    "display(HTML(\"<style>.container { width:100% !important; }</style>\"))\n",
    "\n",
    "seed = 0"
   ]
  },
  {
   "cell_type": "markdown",
   "id": "02ec2211",
   "metadata": {
    "heading_collapsed": true,
    "hidden": true
   },
   "source": [
    "## 0.3. Loading Data"
   ]
  },
  {
   "cell_type": "code",
   "execution_count": 3,
   "id": "b7998a97",
   "metadata": {
    "ExecuteTime": {
     "end_time": "2023-07-01T00:32:30.902365Z",
     "start_time": "2023-07-01T00:32:27.685951Z"
    },
    "hidden": true
   },
   "outputs": [],
   "source": [
    "kaggle = KaggleApi()\n",
    "kaggle.authenticate()\n",
    "\n",
    "kaggle.dataset_download_files('anmolkumar/health-insurance-cross-sell-prediction', unzip = True);\n",
    "\n",
    "df_raw = pd.read_csv('train.csv', encoding = 'unicode_escape')\n",
    "df_final_test = pd.read_csv('test.csv', encoding = 'unicode_escape')\n",
    "\n",
    "remove('train.csv')\n",
    "remove('test.csv')\n",
    "remove('sample_submission.csv')"
   ]
  },
  {
   "cell_type": "markdown",
   "id": "1db00359",
   "metadata": {
    "heading_collapsed": true,
    "hidden": true
   },
   "source": [
    "## 0.4. Train Test Split"
   ]
  },
  {
   "cell_type": "code",
   "execution_count": 4,
   "id": "53c53877",
   "metadata": {
    "ExecuteTime": {
     "end_time": "2023-07-01T00:32:30.965237Z",
     "start_time": "2023-07-01T00:32:30.906356Z"
    },
    "hidden": true
   },
   "outputs": [],
   "source": [
    "df_train_val_raw, df_test_raw = train_test_split(df_raw, train_size = 0.8, shuffle = True, random_state = seed)"
   ]
  },
  {
   "cell_type": "markdown",
   "id": "3decff2e",
   "metadata": {
    "heading_collapsed": true
   },
   "source": [
    "# 1. DATA DESCRIPTION"
   ]
  },
  {
   "cell_type": "code",
   "execution_count": 5,
   "id": "1dc06545",
   "metadata": {
    "ExecuteTime": {
     "end_time": "2023-07-01T00:32:30.996141Z",
     "start_time": "2023-07-01T00:32:30.967191Z"
    },
    "hidden": true
   },
   "outputs": [],
   "source": [
    "df1 = df_train_val_raw.copy()"
   ]
  },
  {
   "cell_type": "markdown",
   "id": "8f860d34",
   "metadata": {
    "heading_collapsed": true,
    "hidden": true
   },
   "source": [
    "## 1.1. Rename Columns"
   ]
  },
  {
   "cell_type": "code",
   "execution_count": 6,
   "id": "ad1898df",
   "metadata": {
    "ExecuteTime": {
     "end_time": "2023-07-01T00:32:31.011107Z",
     "start_time": "2023-07-01T00:32:31.000103Z"
    },
    "hidden": true
   },
   "outputs": [],
   "source": [
    "df1.columns = ['ID', 'Gender', 'Age', 'HaveDrivingLicense', 'RegionCode',\n",
    "               'PreviouslyInsured', 'VehicleAge', 'HaveDamagedVehicle', 'AnnualCost',\n",
    "               'CommunicationChannel', 'CustomerSinceDays', 'Response']"
   ]
  },
  {
   "cell_type": "markdown",
   "id": "ba20efa0",
   "metadata": {
    "ExecuteTime": {
     "end_time": "2023-06-30T19:08:51.166971Z",
     "start_time": "2023-06-30T19:08:51.132029Z"
    },
    "heading_collapsed": true,
    "hidden": true
   },
   "source": [
    "## 1.2. Data Dimensions"
   ]
  },
  {
   "cell_type": "code",
   "execution_count": 7,
   "id": "6a1bed9d",
   "metadata": {
    "ExecuteTime": {
     "end_time": "2023-07-01T00:32:31.027063Z",
     "start_time": "2023-07-01T00:32:31.015072Z"
    },
    "hidden": true,
    "hide_input": true
   },
   "outputs": [
    {
     "name": "stdout",
     "output_type": "stream",
     "text": [
      "Number of Rows: 304887\n",
      "Number of Columns: 12\n"
     ]
    }
   ],
   "source": [
    "n_rows, n_cols = df1.shape\n",
    "\n",
    "print('Number of Rows: {}\\nNumber of Columns: {}'.format(n_rows, n_cols))"
   ]
  },
  {
   "cell_type": "markdown",
   "id": "994952f2",
   "metadata": {
    "heading_collapsed": true,
    "hidden": true
   },
   "source": [
    "## 1.3. Data Types"
   ]
  },
  {
   "cell_type": "code",
   "execution_count": 8,
   "id": "65e37535",
   "metadata": {
    "ExecuteTime": {
     "end_time": "2023-07-01T00:32:31.041990Z",
     "start_time": "2023-07-01T00:32:31.030022Z"
    },
    "hidden": true
   },
   "outputs": [
    {
     "data": {
      "text/plain": [
       "ID                        int64\n",
       "Gender                   object\n",
       "Age                       int64\n",
       "HaveDrivingLicense        int64\n",
       "RegionCode              float64\n",
       "PreviouslyInsured         int64\n",
       "VehicleAge               object\n",
       "HaveDamagedVehicle       object\n",
       "AnnualCost              float64\n",
       "CommunicationChannel    float64\n",
       "CustomerSinceDays         int64\n",
       "Response                  int64\n",
       "dtype: object"
      ]
     },
     "execution_count": 8,
     "metadata": {},
     "output_type": "execute_result"
    }
   ],
   "source": [
    "df1.dtypes"
   ]
  },
  {
   "cell_type": "markdown",
   "id": "5e925e73",
   "metadata": {
    "heading_collapsed": true,
    "hidden": true
   },
   "source": [
    "## 1.4. Check NA"
   ]
  },
  {
   "cell_type": "code",
   "execution_count": 9,
   "id": "ef47b263",
   "metadata": {
    "ExecuteTime": {
     "end_time": "2023-07-01T00:32:31.105195Z",
     "start_time": "2023-07-01T00:32:31.046988Z"
    },
    "hidden": true
   },
   "outputs": [
    {
     "data": {
      "text/plain": [
       "ID                      0\n",
       "Gender                  0\n",
       "Age                     0\n",
       "HaveDrivingLicense      0\n",
       "RegionCode              0\n",
       "PreviouslyInsured       0\n",
       "VehicleAge              0\n",
       "HaveDamagedVehicle      0\n",
       "AnnualCost              0\n",
       "CommunicationChannel    0\n",
       "CustomerSinceDays       0\n",
       "Response                0\n",
       "dtype: int64"
      ]
     },
     "execution_count": 9,
     "metadata": {},
     "output_type": "execute_result"
    }
   ],
   "source": [
    "df1.isna().sum()"
   ]
  },
  {
   "cell_type": "markdown",
   "id": "36a28e84",
   "metadata": {
    "heading_collapsed": true,
    "hidden": true
   },
   "source": [
    "## 1.5 Fillout NA"
   ]
  },
  {
   "cell_type": "markdown",
   "id": "4bc0b6fa",
   "metadata": {
    "heading_collapsed": true,
    "hidden": true
   },
   "source": [
    "## 1.6. Changing Data Types"
   ]
  },
  {
   "cell_type": "code",
   "execution_count": 10,
   "id": "f85c47ab",
   "metadata": {
    "ExecuteTime": {
     "end_time": "2023-07-01T00:32:31.185010Z",
     "start_time": "2023-07-01T00:32:31.112183Z"
    },
    "hidden": true
   },
   "outputs": [],
   "source": [
    "# RegionCode\n",
    "df1['RegionCode'] = df1['RegionCode'].astype('object')\n",
    "\n",
    "# HaveDamagedVehicle\n",
    "df1['HaveDamagedVehicle'] = df1['HaveDamagedVehicle'].map({'Yes': 1, 'No': 0 })\n",
    "\n",
    "# CommunicationChannel\n",
    "df1['CommunicationChannel'] = df1['CommunicationChannel'].astype('object')"
   ]
  },
  {
   "cell_type": "markdown",
   "id": "4c008818",
   "metadata": {
    "heading_collapsed": true,
    "hidden": true
   },
   "source": [
    "## 1.7. Descriptive Analysis"
   ]
  },
  {
   "cell_type": "code",
   "execution_count": 11,
   "id": "ae923e69",
   "metadata": {
    "ExecuteTime": {
     "end_time": "2023-07-01T00:32:31.261053Z",
     "start_time": "2023-07-01T00:32:31.187971Z"
    },
    "hidden": true
   },
   "outputs": [],
   "source": [
    "num_attributes = df1.select_dtypes(include = ['int64', 'float64']).drop(\"ID\", axis = 1)\n",
    "cat_attributes = df1.select_dtypes(exclude = ['int64', 'float64'])"
   ]
  },
  {
   "cell_type": "markdown",
   "id": "d94ee6bf",
   "metadata": {
    "heading_collapsed": true,
    "hidden": true
   },
   "source": [
    "### 1.7.1. Numerical Attributes"
   ]
  },
  {
   "cell_type": "code",
   "execution_count": 12,
   "id": "7b2e8248",
   "metadata": {
    "ExecuteTime": {
     "end_time": "2023-07-01T00:32:32.118059Z",
     "start_time": "2023-07-01T00:32:31.262949Z"
    },
    "hidden": true,
    "hide_input": true
   },
   "outputs": [],
   "source": [
    "# Central Tendency\n",
    "means = pd.DataFrame(num_attributes.apply(np.mean)).T\n",
    "medians = pd.DataFrame(num_attributes.apply(np.median)).T\n",
    "\n",
    "# Dispersion\n",
    "stds = pd.DataFrame(num_attributes.apply(np.std)).T\n",
    "skews = pd.DataFrame(num_attributes.apply(lambda x: x.skew())).T\n",
    "kurtoses = pd.DataFrame(num_attributes.apply(lambda x: x.kurtosis())).T\n",
    "maxima = pd.DataFrame(num_attributes.apply(max)).T\n",
    "minima = pd.DataFrame(num_attributes.apply(min)).T\n",
    "value_range = pd.DataFrame(num_attributes.apply(lambda x: max(x) - min(x))).T"
   ]
  },
  {
   "cell_type": "code",
   "execution_count": 13,
   "id": "e9809167",
   "metadata": {
    "ExecuteTime": {
     "end_time": "2023-07-01T00:32:32.150034Z",
     "start_time": "2023-07-01T00:32:32.120934Z"
    },
    "hidden": true,
    "hide_input": true
   },
   "outputs": [
    {
     "data": {
      "text/html": [
       "<div>\n",
       "<style scoped>\n",
       "    .dataframe tbody tr th:only-of-type {\n",
       "        vertical-align: middle;\n",
       "    }\n",
       "\n",
       "    .dataframe tbody tr th {\n",
       "        vertical-align: top;\n",
       "    }\n",
       "\n",
       "    .dataframe thead th {\n",
       "        text-align: right;\n",
       "    }\n",
       "</style>\n",
       "<table border=\"1\" class=\"dataframe\">\n",
       "  <thead>\n",
       "    <tr style=\"text-align: right;\">\n",
       "      <th></th>\n",
       "      <th>Min</th>\n",
       "      <th>Max</th>\n",
       "      <th>Range</th>\n",
       "      <th>Mean</th>\n",
       "      <th>Median</th>\n",
       "      <th>Std</th>\n",
       "      <th>Skew</th>\n",
       "      <th>Kurtosis</th>\n",
       "    </tr>\n",
       "  </thead>\n",
       "  <tbody>\n",
       "    <tr>\n",
       "      <th>Age</th>\n",
       "      <td>20.0</td>\n",
       "      <td>85.0</td>\n",
       "      <td>65.0</td>\n",
       "      <td>38.821127</td>\n",
       "      <td>36.0</td>\n",
       "      <td>15.504253</td>\n",
       "      <td>0.672074</td>\n",
       "      <td>-0.566798</td>\n",
       "    </tr>\n",
       "    <tr>\n",
       "      <th>HaveDrivingLicense</th>\n",
       "      <td>0.0</td>\n",
       "      <td>1.0</td>\n",
       "      <td>1.0</td>\n",
       "      <td>0.997871</td>\n",
       "      <td>1.0</td>\n",
       "      <td>0.046088</td>\n",
       "      <td>-21.605240</td>\n",
       "      <td>464.789436</td>\n",
       "    </tr>\n",
       "    <tr>\n",
       "      <th>PreviouslyInsured</th>\n",
       "      <td>0.0</td>\n",
       "      <td>1.0</td>\n",
       "      <td>1.0</td>\n",
       "      <td>0.458285</td>\n",
       "      <td>0.0</td>\n",
       "      <td>0.498257</td>\n",
       "      <td>0.167446</td>\n",
       "      <td>-1.971975</td>\n",
       "    </tr>\n",
       "    <tr>\n",
       "      <th>HaveDamagedVehicle</th>\n",
       "      <td>0.0</td>\n",
       "      <td>1.0</td>\n",
       "      <td>1.0</td>\n",
       "      <td>0.504715</td>\n",
       "      <td>1.0</td>\n",
       "      <td>0.499978</td>\n",
       "      <td>-0.018860</td>\n",
       "      <td>-1.999657</td>\n",
       "    </tr>\n",
       "    <tr>\n",
       "      <th>AnnualCost</th>\n",
       "      <td>2630.0</td>\n",
       "      <td>540165.0</td>\n",
       "      <td>537535.0</td>\n",
       "      <td>30578.576873</td>\n",
       "      <td>31684.0</td>\n",
       "      <td>17196.830459</td>\n",
       "      <td>1.695928</td>\n",
       "      <td>31.490580</td>\n",
       "    </tr>\n",
       "    <tr>\n",
       "      <th>CustomerSinceDays</th>\n",
       "      <td>10.0</td>\n",
       "      <td>299.0</td>\n",
       "      <td>289.0</td>\n",
       "      <td>154.190539</td>\n",
       "      <td>154.0</td>\n",
       "      <td>83.716529</td>\n",
       "      <td>0.005773</td>\n",
       "      <td>-1.202021</td>\n",
       "    </tr>\n",
       "    <tr>\n",
       "      <th>Response</th>\n",
       "      <td>0.0</td>\n",
       "      <td>1.0</td>\n",
       "      <td>1.0</td>\n",
       "      <td>0.122452</td>\n",
       "      <td>0.0</td>\n",
       "      <td>0.327807</td>\n",
       "      <td>2.303489</td>\n",
       "      <td>3.306083</td>\n",
       "    </tr>\n",
       "  </tbody>\n",
       "</table>\n",
       "</div>"
      ],
      "text/plain": [
       "                       Min       Max     Range          Mean   Median  \\\n",
       "Age                   20.0      85.0      65.0     38.821127     36.0   \n",
       "HaveDrivingLicense     0.0       1.0       1.0      0.997871      1.0   \n",
       "PreviouslyInsured      0.0       1.0       1.0      0.458285      0.0   \n",
       "HaveDamagedVehicle     0.0       1.0       1.0      0.504715      1.0   \n",
       "AnnualCost          2630.0  540165.0  537535.0  30578.576873  31684.0   \n",
       "CustomerSinceDays     10.0     299.0     289.0    154.190539    154.0   \n",
       "Response               0.0       1.0       1.0      0.122452      0.0   \n",
       "\n",
       "                             Std       Skew    Kurtosis  \n",
       "Age                    15.504253   0.672074   -0.566798  \n",
       "HaveDrivingLicense      0.046088 -21.605240  464.789436  \n",
       "PreviouslyInsured       0.498257   0.167446   -1.971975  \n",
       "HaveDamagedVehicle      0.499978  -0.018860   -1.999657  \n",
       "AnnualCost          17196.830459   1.695928   31.490580  \n",
       "CustomerSinceDays      83.716529   0.005773   -1.202021  \n",
       "Response                0.327807   2.303489    3.306083  "
      ]
     },
     "execution_count": 13,
     "metadata": {},
     "output_type": "execute_result"
    }
   ],
   "source": [
    "stats = pd.concat([minima, maxima, value_range, means, medians, stds, skews, kurtoses]).T\n",
    "stats.columns = [\"Min\", \"Max\", \"Range\", \"Mean\", \"Median\", \"Std\", \"Skew\", \"Kurtosis\"]\n",
    "stats"
   ]
  },
  {
   "cell_type": "markdown",
   "id": "61ae2fdf",
   "metadata": {
    "heading_collapsed": true,
    "hidden": true
   },
   "source": [
    "### 1.7.2. Categorical Attributes"
   ]
  },
  {
   "cell_type": "code",
   "execution_count": 14,
   "id": "00ca1d79",
   "metadata": {
    "ExecuteTime": {
     "end_time": "2023-07-01T00:32:32.305521Z",
     "start_time": "2023-07-01T00:32:32.152933Z"
    },
    "hidden": true,
    "hide_input": true,
    "scrolled": true
   },
   "outputs": [
    {
     "data": {
      "text/html": [
       "<div>\n",
       "<style scoped>\n",
       "    .dataframe tbody tr th:only-of-type {\n",
       "        vertical-align: middle;\n",
       "    }\n",
       "\n",
       "    .dataframe tbody tr th {\n",
       "        vertical-align: top;\n",
       "    }\n",
       "\n",
       "    .dataframe thead th {\n",
       "        text-align: right;\n",
       "    }\n",
       "</style>\n",
       "<table border=\"1\" class=\"dataframe\">\n",
       "  <thead>\n",
       "    <tr style=\"text-align: right;\">\n",
       "      <th></th>\n",
       "      <th>count</th>\n",
       "      <th>unique</th>\n",
       "      <th>top</th>\n",
       "      <th>freq</th>\n",
       "    </tr>\n",
       "  </thead>\n",
       "  <tbody>\n",
       "    <tr>\n",
       "      <th>Gender</th>\n",
       "      <td>304887</td>\n",
       "      <td>2</td>\n",
       "      <td>Male</td>\n",
       "      <td>164789</td>\n",
       "    </tr>\n",
       "    <tr>\n",
       "      <th>RegionCode</th>\n",
       "      <td>304887.0</td>\n",
       "      <td>53.0</td>\n",
       "      <td>28.0</td>\n",
       "      <td>85135.0</td>\n",
       "    </tr>\n",
       "    <tr>\n",
       "      <th>VehicleAge</th>\n",
       "      <td>304887</td>\n",
       "      <td>3</td>\n",
       "      <td>1-2 Year</td>\n",
       "      <td>160155</td>\n",
       "    </tr>\n",
       "    <tr>\n",
       "      <th>CommunicationChannel</th>\n",
       "      <td>304887.0</td>\n",
       "      <td>154.0</td>\n",
       "      <td>152.0</td>\n",
       "      <td>107895.0</td>\n",
       "    </tr>\n",
       "  </tbody>\n",
       "</table>\n",
       "</div>"
      ],
      "text/plain": [
       "                         count unique       top      freq\n",
       "Gender                  304887      2      Male    164789\n",
       "RegionCode            304887.0   53.0      28.0   85135.0\n",
       "VehicleAge              304887      3  1-2 Year    160155\n",
       "CommunicationChannel  304887.0  154.0     152.0  107895.0"
      ]
     },
     "execution_count": 14,
     "metadata": {},
     "output_type": "execute_result"
    }
   ],
   "source": [
    "cat_attributes.describe().T"
   ]
  },
  {
   "cell_type": "markdown",
   "id": "1b5d4499",
   "metadata": {
    "heading_collapsed": true
   },
   "source": [
    "# 2. FEATURE ENGINEERING"
   ]
  },
  {
   "cell_type": "code",
   "execution_count": 15,
   "id": "0847690c",
   "metadata": {
    "ExecuteTime": {
     "end_time": "2023-07-01T00:32:32.367431Z",
     "start_time": "2023-07-01T00:32:32.307403Z"
    },
    "hidden": true
   },
   "outputs": [],
   "source": [
    "df2 = df1.copy()"
   ]
  },
  {
   "cell_type": "markdown",
   "id": "f3e3482b",
   "metadata": {
    "heading_collapsed": true,
    "hidden": true
   },
   "source": [
    "## 2.1. Hypotheses"
   ]
  },
  {
   "cell_type": "markdown",
   "id": "c6f40061",
   "metadata": {
    "heading_collapsed": true,
    "hidden": true
   },
   "source": [
    "## 2.2. Feature Creation"
   ]
  },
  {
   "cell_type": "markdown",
   "id": "9946b6ab",
   "metadata": {
    "heading_collapsed": true
   },
   "source": [
    "# 3. VARIABLE FILTERING"
   ]
  },
  {
   "cell_type": "code",
   "execution_count": 16,
   "id": "5495e990",
   "metadata": {
    "ExecuteTime": {
     "end_time": "2023-07-01T00:32:32.398909Z",
     "start_time": "2023-07-01T00:32:32.370456Z"
    },
    "hidden": true
   },
   "outputs": [],
   "source": [
    "df3 = df2.copy()"
   ]
  },
  {
   "cell_type": "markdown",
   "id": "67370a6d",
   "metadata": {
    "heading_collapsed": true,
    "hidden": true
   },
   "source": [
    "## 3.1. Row Filtering"
   ]
  },
  {
   "cell_type": "markdown",
   "id": "2edb85ad",
   "metadata": {
    "heading_collapsed": true,
    "hidden": true
   },
   "source": [
    "## 3.2. Columns Filtering"
   ]
  },
  {
   "cell_type": "markdown",
   "id": "b0a24e24",
   "metadata": {
    "heading_collapsed": true
   },
   "source": [
    "# 4. EXPLORATORY DATA ANALYSIS"
   ]
  },
  {
   "cell_type": "code",
   "execution_count": 17,
   "id": "4884d8cc",
   "metadata": {
    "ExecuteTime": {
     "end_time": "2023-07-01T00:32:32.429468Z",
     "start_time": "2023-07-01T00:32:32.402670Z"
    },
    "hidden": true
   },
   "outputs": [],
   "source": [
    "df4 = df3.copy()"
   ]
  },
  {
   "cell_type": "markdown",
   "id": "ecde733d",
   "metadata": {
    "heading_collapsed": true,
    "hidden": true
   },
   "source": [
    "## 4.1. Univariate Analysis"
   ]
  },
  {
   "cell_type": "markdown",
   "id": "df3c1d5b",
   "metadata": {
    "heading_collapsed": true,
    "hidden": true
   },
   "source": [
    "## 4.2. Bivariate Analysis"
   ]
  },
  {
   "cell_type": "markdown",
   "id": "df9797cf",
   "metadata": {
    "heading_collapsed": true,
    "hidden": true
   },
   "source": [
    "## 4.3. Multivariate Analysis"
   ]
  },
  {
   "cell_type": "markdown",
   "id": "f598a30b",
   "metadata": {
    "heading_collapsed": true
   },
   "source": [
    "# 5. DATA PREPARATION"
   ]
  },
  {
   "cell_type": "code",
   "execution_count": 18,
   "id": "4332d784",
   "metadata": {
    "ExecuteTime": {
     "end_time": "2023-07-01T00:32:32.459468Z",
     "start_time": "2023-07-01T00:32:32.432368Z"
    },
    "hidden": true
   },
   "outputs": [],
   "source": [
    "df5 = df4.copy()"
   ]
  },
  {
   "cell_type": "markdown",
   "id": "df172a2c",
   "metadata": {
    "heading_collapsed": true,
    "hidden": true
   },
   "source": [
    "## 5.1. Encoding"
   ]
  },
  {
   "cell_type": "code",
   "execution_count": 19,
   "id": "cf0fbc30",
   "metadata": {
    "ExecuteTime": {
     "end_time": "2023-07-01T00:32:32.554280Z",
     "start_time": "2023-07-01T00:32:32.462462Z"
    },
    "hidden": true
   },
   "outputs": [],
   "source": [
    "# Gender\n",
    "df5['Gender'] = df5['Gender'].map({'Female': -1, \"Male\": 1})\n",
    "\n",
    "# VehicleAge\n",
    "le_va = LabelEncoder()\n",
    "df5['VehicleAge'] = le_va.fit_transform(df5['VehicleAge'])"
   ]
  },
  {
   "cell_type": "markdown",
   "id": "c00eba2b",
   "metadata": {
    "heading_collapsed": true
   },
   "source": [
    "# 6. FEATURE SELECTION"
   ]
  },
  {
   "cell_type": "code",
   "execution_count": 119,
   "id": "2011f73e",
   "metadata": {
    "ExecuteTime": {
     "end_time": "2023-07-01T02:18:21.859563Z",
     "start_time": "2023-07-01T02:18:21.800742Z"
    },
    "hidden": true
   },
   "outputs": [],
   "source": [
    "df6 = df5.copy()"
   ]
  },
  {
   "cell_type": "markdown",
   "id": "848bae81",
   "metadata": {
    "hidden": true
   },
   "source": [
    "## 6.1. Data Splitting"
   ]
  },
  {
   "cell_type": "code",
   "execution_count": 120,
   "id": "a3d91617",
   "metadata": {
    "ExecuteTime": {
     "end_time": "2023-07-01T02:18:21.970820Z",
     "start_time": "2023-07-01T02:18:21.863550Z"
    },
    "hidden": true
   },
   "outputs": [],
   "source": [
    "train, val = train_test_split(df6, test_size = 0.25, shuffle = True, random_state = seed)\n",
    "\n",
    "x_train = train.drop('Response', axis = 1)\n",
    "y_train = train['Response']\n",
    "\n",
    "x_val = val.drop('Response', axis = 1)\n",
    "y_val = val['Response']"
   ]
  },
  {
   "cell_type": "markdown",
   "id": "b128b178",
   "metadata": {
    "hidden": true
   },
   "source": [
    "## 6.2. Manual Selection"
   ]
  },
  {
   "cell_type": "code",
   "execution_count": 121,
   "id": "2fc921c9",
   "metadata": {
    "ExecuteTime": {
     "end_time": "2023-07-01T02:18:21.986818Z",
     "start_time": "2023-07-01T02:18:21.972639Z"
    },
    "hidden": true
   },
   "outputs": [],
   "source": [
    "selected_columns_manual = ['Gender', 'Age', 'HaveDrivingLicense', 'RegionCode',\n",
    "       'PreviouslyInsured', 'VehicleAge', 'HaveDamagedVehicle', 'AnnualCost',\n",
    "       'CommunicationChannel', 'CustomerSinceDays', 'Response']"
   ]
  },
  {
   "cell_type": "markdown",
   "id": "a8755f92",
   "metadata": {
    "hidden": true
   },
   "source": [
    "## 6.3. Selection"
   ]
  },
  {
   "cell_type": "code",
   "execution_count": 122,
   "id": "4cdcbc1b",
   "metadata": {
    "ExecuteTime": {
     "end_time": "2023-07-01T02:18:22.017613Z",
     "start_time": "2023-07-01T02:18:21.989813Z"
    },
    "hidden": true
   },
   "outputs": [],
   "source": [
    "df6 = df6.loc[:, selected_columns_manual]"
   ]
  },
  {
   "cell_type": "markdown",
   "id": "72956391",
   "metadata": {},
   "source": [
    "# 7. MACHINE LEARNING MODELLING"
   ]
  },
  {
   "cell_type": "code",
   "execution_count": 163,
   "id": "dbae076d",
   "metadata": {
    "ExecuteTime": {
     "end_time": "2023-07-01T02:40:24.023034Z",
     "start_time": "2023-07-01T02:40:24.016053Z"
    }
   },
   "outputs": [],
   "source": [
    "k = 2000"
   ]
  },
  {
   "cell_type": "markdown",
   "id": "7de8bed7",
   "metadata": {},
   "source": [
    "## 7.1. K-Nearest Neighbors"
   ]
  },
  {
   "cell_type": "markdown",
   "id": "c435b9c9",
   "metadata": {},
   "source": [
    "### 7.1.1. Single Model"
   ]
  },
  {
   "cell_type": "code",
   "execution_count": 164,
   "id": "8111f1b2",
   "metadata": {
    "ExecuteTime": {
     "end_time": "2023-07-01T02:40:29.491767Z",
     "start_time": "2023-07-01T02:40:27.393112Z"
    },
    "scrolled": true
   },
   "outputs": [
    {
     "data": {
      "text/html": [
       "<div>\n",
       "<style scoped>\n",
       "    .dataframe tbody tr th:only-of-type {\n",
       "        vertical-align: middle;\n",
       "    }\n",
       "\n",
       "    .dataframe tbody tr th {\n",
       "        vertical-align: top;\n",
       "    }\n",
       "\n",
       "    .dataframe thead th {\n",
       "        text-align: right;\n",
       "    }\n",
       "</style>\n",
       "<table border=\"1\" class=\"dataframe\">\n",
       "  <thead>\n",
       "    <tr style=\"text-align: right;\">\n",
       "      <th></th>\n",
       "      <th>Model</th>\n",
       "      <th>Precision@2000</th>\n",
       "      <th>AP@2000</th>\n",
       "    </tr>\n",
       "  </thead>\n",
       "  <tbody>\n",
       "    <tr>\n",
       "      <th>0</th>\n",
       "      <td>KNN</td>\n",
       "      <td>0.1355</td>\n",
       "      <td>0.151868</td>\n",
       "    </tr>\n",
       "  </tbody>\n",
       "</table>\n",
       "</div>"
      ],
      "text/plain": [
       "  Model  Precision@2000   AP@2000\n",
       "0   KNN          0.1355  0.151868"
      ]
     },
     "execution_count": 164,
     "metadata": {},
     "output_type": "execute_result"
    }
   ],
   "source": [
    "knn = KNN()\n",
    "knn.fit(x_train, y_train)\n",
    "\n",
    "predict_knn = knn.predict_proba(x_val)\n",
    "\n",
    "result_knn = ml_result(val, k, 'KNN', predict_knn)\n",
    "\n",
    "result_knn"
   ]
  },
  {
   "cell_type": "code",
   "execution_count": 166,
   "id": "51055a30",
   "metadata": {
    "ExecuteTime": {
     "end_time": "2023-07-01T02:40:39.619770Z",
     "start_time": "2023-07-01T02:40:39.399902Z"
    }
   },
   "outputs": [
    {
     "data": {
      "image/png": "[encoded data removed]",
      "text/plain": [
       "<Figure size 640x480 with 1 Axes>"
      ]
     },
     "metadata": {},
     "output_type": "display_data"
    }
   ],
   "source": [
    "skplt.metrics.plot_cumulative_gain(df['Response'], predict_knn);"
   ]
  },
  {
   "cell_type": "markdown",
   "id": "8cb36f66",
   "metadata": {},
   "source": [
    "# 8. HYPERPARAMETERS FINE TUNING"
   ]
  },
  {
   "cell_type": "code",
   "execution_count": 95,
   "id": "dd0d8035",
   "metadata": {
    "ExecuteTime": {
     "end_time": "2023-07-01T02:11:43.057334Z",
     "start_time": "2023-07-01T02:11:43.025736Z"
    }
   },
   "outputs": [],
   "source": [
    "df8 = df7.copy()"
   ]
  },
  {
   "cell_type": "markdown",
   "id": "a6b5e378",
   "metadata": {},
   "source": [
    "# 9. RESULT INTERPRETATION"
   ]
  },
  {
   "cell_type": "code",
   "execution_count": 96,
   "id": "1d8eba56",
   "metadata": {
    "ExecuteTime": {
     "end_time": "2023-07-01T02:11:43.479208Z",
     "start_time": "2023-07-01T02:11:43.456270Z"
    }
   },
   "outputs": [],
   "source": [
    "df9 = df8.copy()"
   ]
  },
  {
   "cell_type": "markdown",
   "id": "fd653092",
   "metadata": {},
   "source": [
    "# 10. DEPLOYMENT"
   ]
  },
  {
   "cell_type": "code",
   "execution_count": null,
   "id": "117a34a0",
   "metadata": {},
   "outputs": [],
   "source": []
  }
 ],
 "metadata": {
  "kernelspec": {
   "display_name": "Python (CrossSell)",
   "language": "python",
   "name": "myenv"
  },
  "language_info": {
   "codemirror_mode": {
    "name": "ipython",
    "version": 3
   },
   "file_extension": ".py",
   "mimetype": "text/x-python",
   "name": "python",
   "nbconvert_exporter": "python",
   "pygments_lexer": "ipython3",
   "version": "3.8.0"
  },
  "varInspector": {
   "cols": {
    "lenName": 16,
    "lenType": 16,
    "lenVar": 40
   },
   "kernels_config": {
    "python": {
     "delete_cmd_postfix": "",
     "delete_cmd_prefix": "del ",
     "library": "var_list.py",
     "varRefreshCmd": "print(var_dic_list())"
    },
    "r": {
     "delete_cmd_postfix": ") ",
     "delete_cmd_prefix": "rm(",
     "library": "var_list.r",
     "varRefreshCmd": "cat(var_dic_list()) "
    }
   },
   "types_to_exclude": [
    "module",
    "function",
    "builtin_function_or_method",
    "instance",
    "_Feature"
   ],
   "window_display": false
  }
 },
 "nbformat": 4,
 "nbformat_minor": 5
}
